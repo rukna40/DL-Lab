{
 "cells": [
  {
   "cell_type": "code",
   "execution_count": null,
   "metadata": {},
   "outputs": [
    {
     "data": {
      "text/plain": [
       "<torch._C.Generator at 0x7e1fb01e4910>"
      ]
     },
     "execution_count": 473,
     "metadata": {},
     "output_type": "execute_result"
    }
   ],
   "source": [
    "import torch\n",
    "import torch.nn as nn\n",
    "import torch.optim as optim\n",
    "from torch.utils.data import DataLoader, Dataset\n",
    "from torchvision import datasets, transforms\n",
    "import matplotlib.pyplot as plt\n",
    "import glob\n",
    "from PIL import Image\n",
    "from torchvision.utils import make_grid\n",
    "import os\n",
    "torch.manual_seed(42)"
   ]
  },
  {
   "cell_type": "code",
   "execution_count": 474,
   "metadata": {},
   "outputs": [],
   "source": [
    "device = torch.device('cuda' if torch.cuda.is_available() else 'cpu')"
   ]
  },
  {
   "cell_type": "markdown",
   "metadata": {},
   "source": [
    "Sample Exercise:\n",
    "\n",
    "Explore the regularization effects of data augmentation. Use image data\n",
    "“cats_and_dogs_filtered” and apply random transformations (e.g., rotations, flips, and noise)\n",
    "to artificially increase the size of the training dataset. Compare the model's performance with\n",
    "and without data augmentation."
   ]
  },
  {
   "cell_type": "code",
   "execution_count": null,
   "metadata": {},
   "outputs": [],
   "source": [
    "img = Image.open('sample.png')"
   ]
  },
  {
   "cell_type": "code",
   "execution_count": null,
   "metadata": {},
   "outputs": [],
   "source": [
    "class Gaussian(object):\n",
    "    def __init__(self, mean: float, var: float):\n",
    "        self.mean = mean\n",
    "        self.var = var  \n",
    "    def __call__(self, img: torch.Tensor) -> torch.Tensor:\n",
    "        return img + torch.normal(self.mean, self.var, img.size())"
   ]
  },
  {
   "cell_type": "code",
   "execution_count": null,
   "metadata": {},
   "outputs": [],
   "source": [
    "preprocess = transforms.Compose([\n",
    "    transforms.ToTensor(),\n",
    "    transforms.RandomHorizontalFlip(),\n",
    "    transforms.RandomRotation(45),\n",
    "    Gaussian(0,0.15),\n",
    "])"
   ]
  },
  {
   "cell_type": "code",
   "execution_count": null,
   "metadata": {},
   "outputs": [],
   "source": [
    "class MyDataset(Dataset):\n",
    "    def __init__(self, transform=None, str=\"train\"):\n",
    "        self.imgs_path = \".\\\\data\\\\cats_and_dogs_filtered\\\\\"+ str + \"\\\\\"\n",
    "        file_list = glob.glob(self.imgs_path + \"*\")\n",
    "        self.data = []\n",
    "        for class_path in file_list:\n",
    "            if os.path.isdir(class_path):\n",
    "                class_name = class_path.split(\"\\\\\")[-1]\n",
    "                img_paths = glob.glob(class_path + \"\\\\*.png\")\n",
    "                for img_path in img_paths:\n",
    "                    self.data.append([img_path, class_name])\n",
    "            \n",
    "    def __len__(self):\n",
    "        return len(self.data)\n",
    "    \n",
    "    def __getitem__(self, idx):\n",
    "        img_path, class_name = self.data[idx]\n",
    "        img = Image.open(img_path)\n",
    "        class_id = self.class_map[class_name]\n",
    "        class_id = torch.tensor(class_id)\n",
    "        if self.transform:\n",
    "            img = self.transform(img)\n",
    "        return img, class_id"
   ]
  },
  {
   "cell_type": "code",
   "execution_count": null,
   "metadata": {},
   "outputs": [],
   "source": [
    "dataset = MyDataset(transform=preprocess,str = \"train\")\n",
    "dataloader = DataLoader(dataset)"
   ]
  },
  {
   "cell_type": "code",
   "execution_count": null,
   "metadata": {},
   "outputs": [],
   "source": [
    "i=0\n",
    "for data in iter(dataloader):\n",
    "    img, _ = data\n",
    "    img = img.squeeze(0)\n",
    "    img = make_grid(img)\n",
    "    tI = transforms.ToPILImage()\n",
    "    img = tI(img)\n",
    "\n",
    "    plt.imshow(img)\n",
    "    plt.axis('off')\n",
    "    plt.show()\n",
    "\n",
    "    i += 1\n",
    "    if i == 3:\n",
    "        break"
   ]
  },
  {
   "cell_type": "markdown",
   "metadata": {},
   "source": [
    "1. Implement L2 regularization on cat-dog classification neural network. Train the model on the dataset, and observe the impact of the regularization on the weight parameters. (Do not use data augmentation).\n",
    "\n",
    "        a. L2 regularization using optimizer’s weight decay\n",
    "        b. L2 regularization using loop to find L2 norm of weights"
   ]
  },
  {
   "cell_type": "code",
   "execution_count": 481,
   "metadata": {},
   "outputs": [],
   "source": [
    "class CatDogCNN(nn.Module):\n",
    "    def __init__(self):\n",
    "        super().__init__()\n",
    "        self.conv1 = nn.Conv2d(3, 32, kernel_size=3, stride=1, padding=1)\n",
    "        self.conv2 = nn.Conv2d(32, 64, kernel_size=3, stride=1, padding=1)\n",
    "        self.fc1 = nn.Linear(64*32*32, 128)\n",
    "        self.fc2 = nn.Linear(128, 2)\n",
    "\n",
    "    def forward(self, x):\n",
    "        x = torch.relu(self.conv1(x))\n",
    "        x = torch.max_pool2d(x, kernel_size=2, stride=2)\n",
    "        x = torch.relu(self.conv2(x))\n",
    "        x = torch.max_pool2d(x, kernel_size=2, stride=2)\n",
    "        x = x.view(x.size(0), -1)\n",
    "        x = torch.relu(self.fc1(x))\n",
    "        x = self.fc2(x)\n",
    "        return x"
   ]
  },
  {
   "cell_type": "code",
   "execution_count": 482,
   "metadata": {},
   "outputs": [],
   "source": [
    "transform = transforms.Compose([\n",
    "    transforms.Resize((128, 128)),\n",
    "    transforms.ToTensor()\n",
    "])"
   ]
  },
  {
   "cell_type": "code",
   "execution_count": 483,
   "metadata": {},
   "outputs": [],
   "source": [
    "train_dataset = datasets.ImageFolder(\"/home/student/220962137_DL/Lab6/cats_and_dogs_filtered\", transform=transform)\n",
    "train_loader = DataLoader(train_dataset, batch_size=32, shuffle=True)\n",
    "\n",
    "test_dataset = datasets.ImageFolder(\"/home/student/220962137_DL/Lab6/cats_and_dogs_filtered\", transform=transform)\n",
    "test_loader = DataLoader(test_dataset, batch_size=32, shuffle=False)"
   ]
  },
  {
   "cell_type": "code",
   "execution_count": 484,
   "metadata": {},
   "outputs": [
    {
     "data": {
      "text/plain": [
       "CatDogCNN(\n",
       "  (conv1): Conv2d(3, 32, kernel_size=(3, 3), stride=(1, 1), padding=(1, 1))\n",
       "  (conv2): Conv2d(32, 64, kernel_size=(3, 3), stride=(1, 1), padding=(1, 1))\n",
       "  (fc1): Linear(in_features=65536, out_features=128, bias=True)\n",
       "  (fc2): Linear(in_features=128, out_features=2, bias=True)\n",
       ")"
      ]
     },
     "execution_count": 484,
     "metadata": {},
     "output_type": "execute_result"
    }
   ],
   "source": [
    "model=CatDogCNN().to(device)\n",
    "model"
   ]
  },
  {
   "cell_type": "code",
   "execution_count": 485,
   "metadata": {},
   "outputs": [],
   "source": [
    "learning_rate = 0.0001\n",
    "epochs=10\n",
    "lambda_l = 0.0001\n",
    "\n",
    "criterion = nn.CrossEntropyLoss()\n",
    "optimizer = torch.optim.Adam(model.parameters(), lr=learning_rate, weight_decay=lambda_l)"
   ]
  },
  {
   "cell_type": "code",
   "execution_count": 486,
   "metadata": {},
   "outputs": [],
   "source": [
    "def l2_regularization(parameters, lambda_l2):\n",
    "    l2_norm = 0\n",
    "    for param in parameters:\n",
    "        if param.requires_grad:\n",
    "            l2_norm += torch.sum(param**2)\n",
    "    return lambda_l2 * l2_norm"
   ]
  },
  {
   "cell_type": "code",
   "execution_count": 487,
   "metadata": {},
   "outputs": [],
   "source": [
    "def train(model, epochs, train_loader, criterion, optimizer, reg, lambda_l):\n",
    "    losses = []\n",
    "    for epoch in range(epochs):\n",
    "        running_loss = 0.0\n",
    "        model.train()\n",
    "        for input, output in train_loader:\n",
    "            input, output = input.to(device), output.to(device)\n",
    "            optimizer.zero_grad()\n",
    "            pred = model(input)\n",
    "            loss = criterion(pred, output)\n",
    "            if reg:\n",
    "                reg_loss = reg(model.parameters(),lambda_l)\n",
    "            else:\n",
    "                reg_loss=0\n",
    "            total_loss = loss + reg_loss\n",
    "            total_loss.backward()\n",
    "            optimizer.step()\n",
    "            running_loss += loss.item()\n",
    "        print(f\"Epoch {epoch+1}/{epochs}, Loss: {running_loss / len(train_loader)}\")\n",
    "        losses.append(running_loss / len(train_loader))\n",
    "    return losses"
   ]
  },
  {
   "cell_type": "code",
   "execution_count": 488,
   "metadata": {},
   "outputs": [],
   "source": [
    "def evaluate(model, test_loader):\n",
    "    model.eval()\n",
    "    correct = 0\n",
    "    total = 0\n",
    "    with torch.no_grad():\n",
    "        for input, output in test_loader:\n",
    "            input, output = input.to(device), output.to(device)\n",
    "            pred = model(input)\n",
    "            _, predicted = torch.max(pred, 1)\n",
    "            total += output.size(0)\n",
    "            correct += (predicted == output).sum().item()\n",
    "    accuracy = 100 * correct / total\n",
    "    print(f\"Test Accuracy: {accuracy}%\")"
   ]
  },
  {
   "cell_type": "code",
   "execution_count": 489,
   "metadata": {},
   "outputs": [
    {
     "name": "stdout",
     "output_type": "stream",
     "text": [
      "Epoch 1/10, Loss: 0.6426311965952528\n",
      "Epoch 2/10, Loss: 0.6407127107711549\n",
      "Epoch 3/10, Loss: 0.6343932849295596\n",
      "Epoch 4/10, Loss: 0.6244475163043813\n",
      "Epoch 5/10, Loss: 0.6165310908505257\n",
      "Epoch 6/10, Loss: 0.5961913406214816\n",
      "Epoch 7/10, Loss: 0.5782061482363559\n",
      "Epoch 8/10, Loss: 0.5522582045894988\n",
      "Epoch 9/10, Loss: 0.5184644505064538\n",
      "Epoch 10/10, Loss: 0.48797821554731813\n"
     ]
    },
    {
     "data": {
      "text/plain": [
       "[<matplotlib.lines.Line2D at 0x7e1e3b5b7a10>]"
      ]
     },
     "execution_count": 489,
     "metadata": {},
     "output_type": "execute_result"
    },
    {
     "data": {
      "image/png": "[encoded data removed]",
      "text/plain": [
       "<Figure size 640x480 with 1 Axes>"
      ]
     },
     "metadata": {},
     "output_type": "display_data"
    }
   ],
   "source": [
    "losses=train(model,epochs,train_loader, criterion,optimizer,l2_regularization,lambda_l)\n",
    "plt.plot(losses)"
   ]
  },
  {
   "cell_type": "code",
   "execution_count": 490,
   "metadata": {},
   "outputs": [
    {
     "name": "stdout",
     "output_type": "stream",
     "text": [
      "Test Accuracy: 78.1%\n"
     ]
    }
   ],
   "source": [
    "evaluate(model,test_loader)"
   ]
  },
  {
   "cell_type": "markdown",
   "metadata": {},
   "source": [
    "2. Implement L1 regularization on cat-dog classification neural network. Train the model on the dataset, and observe the impact of the regularization on the weight parameters. (Do not use data augmentation).\n",
    "\n",
    "        a. L1 regularization using optimizer’s weight decay\n",
    "        b. L1regularization using loop to find L1 norm of weights"
   ]
  },
  {
   "cell_type": "code",
   "execution_count": 491,
   "metadata": {},
   "outputs": [],
   "source": [
    "def l1_regularization(parameters, lambda_l1):\n",
    "    l1_norm = 0\n",
    "    for param in parameters:\n",
    "        if param.requires_grad:\n",
    "            l1_norm += torch.sum(torch.abs(param))\n",
    "    return lambda_l1 * l1_norm"
   ]
  },
  {
   "cell_type": "code",
   "execution_count": 492,
   "metadata": {},
   "outputs": [
    {
     "name": "stdout",
     "output_type": "stream",
     "text": [
      "Epoch 1/10, Loss: 0.47880866806557837\n",
      "Epoch 2/10, Loss: 0.5040250962719004\n",
      "Epoch 3/10, Loss: 0.5217061036444725\n",
      "Epoch 4/10, Loss: 0.5165913177931563\n",
      "Epoch 5/10, Loss: 0.5146792175921988\n",
      "Epoch 6/10, Loss: 0.5169228895547542\n",
      "Epoch 7/10, Loss: 0.4985330944999735\n",
      "Epoch 8/10, Loss: 0.492225929460627\n",
      "Epoch 9/10, Loss: 0.47844368504716994\n",
      "Epoch 10/10, Loss: 0.4655900182242089\n"
     ]
    },
    {
     "data": {
      "text/plain": [
       "[<matplotlib.lines.Line2D at 0x7e1e42b00c50>]"
      ]
     },
     "execution_count": 492,
     "metadata": {},
     "output_type": "execute_result"
    },
    {
     "data": {
      "image/png": "[encoded data removed]",
      "text/plain": [
       "<Figure size 640x480 with 1 Axes>"
      ]
     },
     "metadata": {},
     "output_type": "display_data"
    }
   ],
   "source": [
    "losses=train(model,epochs,train_loader, criterion,optimizer,l1_regularization,lambda_l)\n",
    "plt.plot(losses)"
   ]
  },
  {
   "cell_type": "code",
   "execution_count": 493,
   "metadata": {},
   "outputs": [
    {
     "name": "stdout",
     "output_type": "stream",
     "text": [
      "Test Accuracy: 79.36666666666666%\n"
     ]
    }
   ],
   "source": [
    "evaluate(model,test_loader)"
   ]
  },
  {
   "cell_type": "markdown",
   "metadata": {},
   "source": [
    "3. Implement dropout regularization on cat-dog classification neural network. Train the model with and without dropout on a dataset, and compare the performance and overfitting tendencies."
   ]
  },
  {
   "cell_type": "code",
   "execution_count": 494,
   "metadata": {},
   "outputs": [],
   "source": [
    "class CatDogCNNDropout(nn.Module):\n",
    "    def __init__(self):\n",
    "        super().__init__()\n",
    "        self.conv1 = nn.Conv2d(3, 32, kernel_size=3, stride=1, padding=1)\n",
    "        self.conv2 = nn.Conv2d(32, 64, kernel_size=3, stride=1, padding=1)\n",
    "        self.fc1 = nn.Linear(64*32*32, 128)\n",
    "        self.dropout = nn.Dropout(0.5)\n",
    "        self.fc2 = nn.Linear(128, 2)\n",
    "        \n",
    "\n",
    "    def forward(self, x):\n",
    "        x = torch.relu(self.conv1(x))\n",
    "        x = torch.max_pool2d(x, kernel_size=2, stride=2)\n",
    "        x = torch.relu(self.conv2(x))\n",
    "        x = torch.max_pool2d(x, kernel_size=2, stride=2)\n",
    "        x = x.view(x.size(0), -1)\n",
    "        x = torch.relu(self.fc1(x))\n",
    "        x=self.dropout(x)\n",
    "        x = self.fc2(x)\n",
    "        return x"
   ]
  },
  {
   "cell_type": "code",
   "execution_count": 495,
   "metadata": {},
   "outputs": [
    {
     "data": {
      "text/plain": [
       "CatDogCNN(\n",
       "  (conv1): Conv2d(3, 32, kernel_size=(3, 3), stride=(1, 1), padding=(1, 1))\n",
       "  (conv2): Conv2d(32, 64, kernel_size=(3, 3), stride=(1, 1), padding=(1, 1))\n",
       "  (fc1): Linear(in_features=65536, out_features=128, bias=True)\n",
       "  (fc2): Linear(in_features=128, out_features=2, bias=True)\n",
       ")"
      ]
     },
     "execution_count": 495,
     "metadata": {},
     "output_type": "execute_result"
    }
   ],
   "source": [
    "model_dropout=CatDogCNNDropout().to(device)\n",
    "model"
   ]
  },
  {
   "cell_type": "code",
   "execution_count": 496,
   "metadata": {},
   "outputs": [
    {
     "name": "stdout",
     "output_type": "stream",
     "text": [
      "Epoch 1/10, Loss: 0.6658055661840642\n",
      "Epoch 2/10, Loss: 0.6663352289098374\n",
      "Epoch 3/10, Loss: 0.6663331890359838\n",
      "Epoch 4/10, Loss: 0.666265293638757\n",
      "Epoch 5/10, Loss: 0.6661567110964592\n",
      "Epoch 6/10, Loss: 0.6661998179364712\n",
      "Epoch 7/10, Loss: 0.6658293535100653\n",
      "Epoch 8/10, Loss: 0.6665542151065583\n",
      "Epoch 9/10, Loss: 0.6662345763216627\n",
      "Epoch 10/10, Loss: 0.6661494792775905\n"
     ]
    },
    {
     "data": {
      "text/plain": [
       "[<matplotlib.lines.Line2D at 0x7e1e47f6a480>]"
      ]
     },
     "execution_count": 496,
     "metadata": {},
     "output_type": "execute_result"
    },
    {
     "data": {
      "image/png": "[encoded data removed]",
      "text/plain": [
       "<Figure size 640x480 with 1 Axes>"
      ]
     },
     "metadata": {},
     "output_type": "display_data"
    }
   ],
   "source": [
    "losses = train(model_dropout, epochs, train_loader, criterion, optimizer,l2_regularization,lambda_l)\n",
    "plt.plot(losses)"
   ]
  },
  {
   "cell_type": "code",
   "execution_count": 497,
   "metadata": {},
   "outputs": [
    {
     "name": "stdout",
     "output_type": "stream",
     "text": [
      "Test Accuracy: 66.66666666666667%\n"
     ]
    }
   ],
   "source": [
    "evaluate(model_dropout, test_loader)"
   ]
  },
  {
   "cell_type": "markdown",
   "metadata": {},
   "source": [
    "4. Implement your own version of the dropout layer by using Bernoulli distribution and compare the performance with the library."
   ]
  },
  {
   "cell_type": "code",
   "execution_count": 498,
   "metadata": {},
   "outputs": [],
   "source": [
    "class CustomDropout(nn.Module):\n",
    "    def __init__(self, p=0.5):\n",
    "        super().__init__()\n",
    "        self.p=p\n",
    "        \n",
    "    def forward(self, x):\n",
    "        if self.training:\n",
    "            mask=torch.bernoulli(torch.full_like(x,1-self.p)).float()\n",
    "            x = x*mask\n",
    "            x=x/(1-self.p)\n",
    "        return x"
   ]
  },
  {
   "cell_type": "code",
   "execution_count": 499,
   "metadata": {},
   "outputs": [],
   "source": [
    "class CatDogCNNDropout(nn.Module):\n",
    "    def __init__(self):\n",
    "        super().__init__()\n",
    "        self.conv1 = nn.Conv2d(3, 32, kernel_size=3, stride=1, padding=1)\n",
    "        self.conv2 = nn.Conv2d(32, 64, kernel_size=3, stride=1, padding=1)\n",
    "        self.fc1 = nn.Linear(64*32*32, 128)\n",
    "        self.dropout = CustomDropout(0.5)\n",
    "        self.fc2 = nn.Linear(128, 2)\n",
    "        \n",
    "\n",
    "    def forward(self, x):\n",
    "        x = torch.relu(self.conv1(x))\n",
    "        x = torch.max_pool2d(x, kernel_size=2, stride=2)\n",
    "        x = torch.relu(self.conv2(x))\n",
    "        x = torch.max_pool2d(x, kernel_size=2, stride=2)\n",
    "        x = x.view(x.size(0), -1)\n",
    "        x = torch.relu(self.fc1(x))\n",
    "        x=self.dropout(x)\n",
    "        x = self.fc2(x)\n",
    "        return x"
   ]
  },
  {
   "cell_type": "code",
   "execution_count": 500,
   "metadata": {},
   "outputs": [
    {
     "data": {
      "text/plain": [
       "CatDogCNN(\n",
       "  (conv1): Conv2d(3, 32, kernel_size=(3, 3), stride=(1, 1), padding=(1, 1))\n",
       "  (conv2): Conv2d(32, 64, kernel_size=(3, 3), stride=(1, 1), padding=(1, 1))\n",
       "  (fc1): Linear(in_features=65536, out_features=128, bias=True)\n",
       "  (fc2): Linear(in_features=128, out_features=2, bias=True)\n",
       ")"
      ]
     },
     "execution_count": 500,
     "metadata": {},
     "output_type": "execute_result"
    }
   ],
   "source": [
    "model_dropout=CatDogCNNDropout().to(device)\n",
    "model"
   ]
  },
  {
   "cell_type": "code",
   "execution_count": 501,
   "metadata": {},
   "outputs": [
    {
     "name": "stdout",
     "output_type": "stream",
     "text": [
      "Epoch 1/10, Loss: 0.7061766557236935\n",
      "Epoch 2/10, Loss: 0.7056119822441264\n",
      "Epoch 3/10, Loss: 0.7059161130418169\n",
      "Epoch 4/10, Loss: 0.7062028931810501\n",
      "Epoch 5/10, Loss: 0.70667040031007\n",
      "Epoch 6/10, Loss: 0.70588921422654\n",
      "Epoch 7/10, Loss: 0.7062076209707463\n",
      "Epoch 8/10, Loss: 0.7062296284005997\n",
      "Epoch 9/10, Loss: 0.7063899686995972\n",
      "Epoch 10/10, Loss: 0.705643356480497\n"
     ]
    },
    {
     "data": {
      "text/plain": [
       "[<matplotlib.lines.Line2D at 0x7e1e60003ef0>]"
      ]
     },
     "execution_count": 501,
     "metadata": {},
     "output_type": "execute_result"
    },
    {
     "data": {
      "image/png": "[encoded data removed]",
      "text/plain": [
       "<Figure size 640x480 with 1 Axes>"
      ]
     },
     "metadata": {},
     "output_type": "display_data"
    }
   ],
   "source": [
    "losses = train(model_dropout, epochs, train_loader, criterion, optimizer,l2_regularization,lambda_l)\n",
    "plt.plot(losses)"
   ]
  },
  {
   "cell_type": "code",
   "execution_count": 502,
   "metadata": {},
   "outputs": [
    {
     "name": "stdout",
     "output_type": "stream",
     "text": [
      "Test Accuracy: 33.333333333333336%\n"
     ]
    }
   ],
   "source": [
    "evaluate(model_dropout, test_loader)"
   ]
  },
  {
   "cell_type": "markdown",
   "metadata": {},
   "source": [
    "5. Implement early stopping as a form of regularization. Train a neural network and monitor the\n",
    "validation loss. Stop training when the validation loss starts increasing, and compare the\n",
    "performance with a model trained without early stopping."
   ]
  },
  {
   "cell_type": "code",
   "execution_count": 503,
   "metadata": {},
   "outputs": [],
   "source": [
    "patience = 5\n",
    "best_validation_loss = float('inf')\n",
    "current_patience = 0"
   ]
  },
  {
   "cell_type": "code",
   "execution_count": null,
   "metadata": {},
   "outputs": [
    {
     "name": "stdout",
     "output_type": "stream",
     "text": [
      "Epoch [1/10], Training Loss: 0.45949427085988065\n",
      "Epoch [1/10], Validation Loss: 0.4131165089759421\n",
      "Model saved with validation loss: 0.4131165089759421\n",
      "Epoch [2/10], Training Loss: 0.41958675390862404\n",
      "Epoch [2/10], Validation Loss: 0.36631606614336054\n",
      "Model saved with validation loss: 0.36631606614336054\n",
      "Epoch [3/10], Training Loss: 0.39326271224529186\n"
     ]
    }
   ],
   "source": [
    "for epoch in range(epochs):\n",
    "    model.train()\n",
    "    running_loss = 0.0\n",
    "\n",
    "    for inputs, labels in train_loader:\n",
    "        inputs, labels = inputs.to(device), labels.to(device)\n",
    "\n",
    "        optimizer.zero_grad()\n",
    "\n",
    "        outputs = model(inputs)\n",
    "        loss = criterion(outputs, labels)\n",
    "\n",
    "        loss.backward()\n",
    "        optimizer.step()\n",
    "\n",
    "        running_loss += loss.item()\n",
    "\n",
    "    print(f'Epoch [{epoch+1}/{epochs}], Training Loss: {running_loss/len(train_loader)}')\n",
    "\n",
    "    model.eval()\n",
    "    with torch.no_grad():\n",
    "        validation_loss = 0.0\n",
    "        for inputs, labels in test_loader:\n",
    "            inputs, labels = inputs.to(device), labels.to(device)\n",
    "\n",
    "            outputs = model(inputs)\n",
    "            loss = criterion(outputs, labels)\n",
    "            validation_loss += loss.item()\n",
    "\n",
    "        validation_loss /= len(test_loader)\n",
    "        print(f'Epoch [{epoch+1}/{epochs}], Validation Loss: {validation_loss}')\n",
    "\n",
    "    if validation_loss < best_validation_loss:\n",
    "        best_validation_loss = validation_loss\n",
    "        current_patience = 0\n",
    "        torch.save(model.state_dict(), 'best_model.pth')\n",
    "        print(f\"Model saved with validation loss: {best_validation_loss}\")\n",
    "    else:\n",
    "        current_patience += 1\n",
    "\n",
    "    if current_patience >= patience:\n",
    "        print(f\"Early stopping! No improvement for {patience} epochs.\")\n",
    "        break\n"
   ]
  },
  {
   "cell_type": "code",
   "execution_count": null,
   "metadata": {},
   "outputs": [],
   "source": []
  }
 ],
 "metadata": {
  "kernelspec": {
   "display_name": "Python (myvenv)",
   "language": "python",
   "name": "myenv"
  },
  "language_info": {
   "codemirror_mode": {
    "name": "ipython",
    "version": 3
   },
   "file_extension": ".py",
   "mimetype": "text/x-python",
   "name": "python",
   "nbconvert_exporter": "python",
   "pygments_lexer": "ipython3",
   "version": "3.12.3"
  }
 },
 "nbformat": 4,
 "nbformat_minor": 2
}
