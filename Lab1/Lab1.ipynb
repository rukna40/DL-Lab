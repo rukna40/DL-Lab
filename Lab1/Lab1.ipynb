{
 "cells": [
  {
   "cell_type": "code",
   "execution_count": 175,
   "id": "e6aac562",
   "metadata": {},
   "outputs": [],
   "source": [
    "import torch\n",
    "import numpy as np"
   ]
  },
  {
   "cell_type": "code",
   "execution_count": 176,
   "id": "7461c5f3",
   "metadata": {},
   "outputs": [
    {
     "data": {
      "text/plain": [
       "(tensor([0, 1, 2, 3, 4, 5, 6, 7, 8]), torch.Size([9]))"
      ]
     },
     "execution_count": 176,
     "metadata": {},
     "output_type": "execute_result"
    }
   ],
   "source": [
    "mat=np.arange(9)\n",
    "t=torch.tensor(mat)\n",
    "\n",
    "t, t.shape"
   ]
  },
  {
   "cell_type": "markdown",
   "id": "83184cc7",
   "metadata": {},
   "source": [
    "1."
   ]
  },
  {
   "cell_type": "code",
   "execution_count": 177,
   "id": "8f77974a",
   "metadata": {},
   "outputs": [
    {
     "data": {
      "text/plain": [
       "(tensor([[0, 1, 2],\n",
       "         [3, 4, 5],\n",
       "         [6, 7, 8]]),\n",
       " torch.Size([3, 3]))"
      ]
     },
     "execution_count": 177,
     "metadata": {},
     "output_type": "execute_result"
    }
   ],
   "source": [
    "t1=torch.reshape(t,(3,3))\n",
    "t1, t1.shape"
   ]
  },
  {
   "cell_type": "code",
   "execution_count": 178,
   "id": "51f0cc46",
   "metadata": {},
   "outputs": [
    {
     "data": {
      "text/plain": [
       "(tensor([[0, 1, 2],\n",
       "         [3, 4, 5],\n",
       "         [6, 7, 8]]),\n",
       " torch.Size([3, 3]))"
      ]
     },
     "execution_count": 178,
     "metadata": {},
     "output_type": "execute_result"
    }
   ],
   "source": [
    "t1=t.view((3,3))\n",
    "t1, t1.shape"
   ]
  },
  {
   "cell_type": "code",
   "execution_count": 179,
   "id": "13ab24a9",
   "metadata": {},
   "outputs": [
    {
     "data": {
      "text/plain": [
       "(tensor([[0, 1, 2, 3, 4, 5, 6, 7, 8],\n",
       "         [0, 1, 2, 3, 4, 5, 6, 7, 8]]),\n",
       " torch.Size([2, 9]))"
      ]
     },
     "execution_count": 179,
     "metadata": {},
     "output_type": "execute_result"
    }
   ],
   "source": [
    "t1=torch.stack((t1,t1))\n",
    "t1,t1.shape"
   ]
  },
  {
   "cell_type": "code",
   "execution_count": 180,
   "id": "09dea4cc",
   "metadata": {},
   "outputs": [
    {
     "data": {
      "text/plain": [
       "(tensor([[0, 1, 2, 3, 4, 5, 6, 7, 8],\n",
       "         [0, 1, 2, 3, 4, 5, 6, 7, 8]]),\n",
       " torch.Size([2, 9]))"
      ]
     },
     "execution_count": 180,
     "metadata": {},
     "output_type": "execute_result"
    }
   ],
   "source": [
    "t1=torch.squeeze(t1)\n",
    "t1,t1.shape"
   ]
  },
  {
   "cell_type": "code",
   "execution_count": 181,
   "id": "94633d1b",
   "metadata": {},
   "outputs": [
    {
     "data": {
      "text/plain": [
       "(tensor([[[0, 1, 2, 3, 4, 5, 6, 7, 8]],\n",
       " \n",
       "         [[0, 1, 2, 3, 4, 5, 6, 7, 8]]]),\n",
       " torch.Size([2, 1, 9]))"
      ]
     },
     "execution_count": 181,
     "metadata": {},
     "output_type": "execute_result"
    }
   ],
   "source": [
    "t1=torch.unsqueeze(t1,dim=1)\n",
    "t1,t1.shape"
   ]
  },
  {
   "cell_type": "markdown",
   "id": "4102b8fd",
   "metadata": {},
   "source": [
    "2."
   ]
  },
  {
   "cell_type": "code",
   "execution_count": 182,
   "id": "a3c368b8",
   "metadata": {},
   "outputs": [
    {
     "ename": "RuntimeError",
     "evalue": "permute(sparse_coo): number of dimensions in the tensor input does not match the length of the desired ordering of dimensions i.e. input.dim() = 3 is not equal to len(dims) = 4",
     "output_type": "error",
     "traceback": [
      "\u001b[0;31m---------------------------------------------------------------------------\u001b[0m",
      "\u001b[0;31mRuntimeError\u001b[0m                              Traceback (most recent call last)",
      "Cell \u001b[0;32mIn[182], line 1\u001b[0m\n\u001b[0;32m----> 1\u001b[0m t2\u001b[38;5;241m=\u001b[39m\u001b[43mtorch\u001b[49m\u001b[38;5;241;43m.\u001b[39;49m\u001b[43mpermute\u001b[49m\u001b[43m(\u001b[49m\u001b[43mt1\u001b[49m\u001b[43m,\u001b[49m\u001b[43mdims\u001b[49m\u001b[38;5;241;43m=\u001b[39;49m\u001b[43m(\u001b[49m\u001b[38;5;241;43m2\u001b[39;49m\u001b[43m,\u001b[49m\u001b[38;5;241;43m0\u001b[39;49m\u001b[43m,\u001b[49m\u001b[38;5;241;43m3\u001b[39;49m\u001b[43m,\u001b[49m\u001b[38;5;241;43m1\u001b[39;49m\u001b[43m)\u001b[49m\u001b[43m)\u001b[49m\n\u001b[1;32m      2\u001b[0m t2,t2\u001b[38;5;241m.\u001b[39mshape\n",
      "\u001b[0;31mRuntimeError\u001b[0m: permute(sparse_coo): number of dimensions in the tensor input does not match the length of the desired ordering of dimensions i.e. input.dim() = 3 is not equal to len(dims) = 4"
     ]
    }
   ],
   "source": [
    "t2=torch.permute(t1,dims=(2,0,3,1))\n",
    "t2,t2.shape"
   ]
  },
  {
   "cell_type": "markdown",
   "id": "5203e250",
   "metadata": {},
   "source": [
    "3."
   ]
  },
  {
   "cell_type": "code",
   "execution_count": 140,
   "id": "cbf396d5",
   "metadata": {},
   "outputs": [
    {
     "data": {
      "text/plain": [
       "tensor([[[[1, 2, 3],\n",
       "          [4, 5, 6],\n",
       "          [7, 8, 9]]]])"
      ]
     },
     "execution_count": 140,
     "metadata": {},
     "output_type": "execute_result"
    }
   ],
   "source": [
    "t1[1:]"
   ]
  },
  {
   "cell_type": "code",
   "execution_count": 141,
   "id": "0fb43698",
   "metadata": {},
   "outputs": [
    {
     "data": {
      "text/plain": [
       "tensor([[[1, 2, 3],\n",
       "         [4, 5, 6],\n",
       "         [7, 8, 9]]])"
      ]
     },
     "execution_count": 141,
     "metadata": {},
     "output_type": "execute_result"
    }
   ],
   "source": [
    "t1[1:,0]"
   ]
  },
  {
   "cell_type": "code",
   "execution_count": 142,
   "id": "a9da79f9",
   "metadata": {},
   "outputs": [
    {
     "data": {
      "text/plain": [
       "tensor([[[1, 2, 3],\n",
       "         [4, 5, 6]]])"
      ]
     },
     "execution_count": 142,
     "metadata": {},
     "output_type": "execute_result"
    }
   ],
   "source": [
    "t1[1:,0,:2]"
   ]
  },
  {
   "cell_type": "code",
   "execution_count": 143,
   "id": "8acce837",
   "metadata": {},
   "outputs": [
    {
     "data": {
      "text/plain": [
       "tensor([[[1, 2, 3],\n",
       "         [4, 5, 6]]])"
      ]
     },
     "execution_count": 143,
     "metadata": {},
     "output_type": "execute_result"
    }
   ],
   "source": [
    "t1[1:,0,:2,:]"
   ]
  },
  {
   "cell_type": "markdown",
   "id": "7b7f6104",
   "metadata": {},
   "source": [
    "4."
   ]
  },
  {
   "cell_type": "code",
   "execution_count": 144,
   "id": "87984b98",
   "metadata": {},
   "outputs": [
    {
     "data": {
      "text/plain": [
       "array([[[1, 2, 3],\n",
       "        [4, 5, 6],\n",
       "        [7, 8, 9]]])"
      ]
     },
     "execution_count": 144,
     "metadata": {},
     "output_type": "execute_result"
    }
   ],
   "source": [
    "arr=np.array(mat)\n",
    "arr"
   ]
  },
  {
   "cell_type": "code",
   "execution_count": 145,
   "id": "23f3543f",
   "metadata": {},
   "outputs": [
    {
     "data": {
      "text/plain": [
       "tensor([[[1, 2, 3],\n",
       "         [4, 5, 6],\n",
       "         [7, 8, 9]]])"
      ]
     },
     "execution_count": 145,
     "metadata": {},
     "output_type": "execute_result"
    }
   ],
   "source": [
    "t3=torch.from_numpy(arr)\n",
    "t3"
   ]
  },
  {
   "cell_type": "code",
   "execution_count": 146,
   "id": "a8b6a196",
   "metadata": {},
   "outputs": [
    {
     "data": {
      "text/plain": [
       "array([[[1, 2, 3],\n",
       "        [4, 5, 6],\n",
       "        [7, 8, 9]]])"
      ]
     },
     "execution_count": 146,
     "metadata": {},
     "output_type": "execute_result"
    }
   ],
   "source": [
    "arr=t3.numpy()\n",
    "arr"
   ]
  },
  {
   "cell_type": "markdown",
   "id": "f8e25a5c",
   "metadata": {},
   "source": [
    "5."
   ]
  },
  {
   "cell_type": "code",
   "execution_count": 147,
   "id": "349d126f",
   "metadata": {},
   "outputs": [
    {
     "data": {
      "text/plain": [
       "torch.Size([7, 7])"
      ]
     },
     "execution_count": 147,
     "metadata": {},
     "output_type": "execute_result"
    }
   ],
   "source": [
    "t4=torch.rand((7,7))\n",
    "t4.shape"
   ]
  },
  {
   "cell_type": "markdown",
   "id": "1f085f5a",
   "metadata": {},
   "source": [
    "6."
   ]
  },
  {
   "cell_type": "code",
   "execution_count": 148,
   "id": "b6ef28e8",
   "metadata": {},
   "outputs": [
    {
     "data": {
      "text/plain": [
       "torch.Size([1, 7])"
      ]
     },
     "execution_count": 148,
     "metadata": {},
     "output_type": "execute_result"
    }
   ],
   "source": [
    "t5=torch.rand((1,7))\n",
    "t5.shape"
   ]
  },
  {
   "cell_type": "code",
   "execution_count": 149,
   "id": "1fa9a7aa",
   "metadata": {},
   "outputs": [
    {
     "data": {
      "text/plain": [
       "torch.Size([7, 1])"
      ]
     },
     "execution_count": 149,
     "metadata": {},
     "output_type": "execute_result"
    }
   ],
   "source": [
    "t6=torch.matmul(t4,t5.transpose(0,1))\n",
    "t6.shape"
   ]
  },
  {
   "cell_type": "markdown",
   "id": "daf4bd40",
   "metadata": {},
   "source": [
    "7."
   ]
  },
  {
   "cell_type": "code",
   "execution_count": 150,
   "id": "af0b47f0",
   "metadata": {},
   "outputs": [
    {
     "data": {
      "text/plain": [
       "(device(type='cpu'), device(type='cpu'))"
      ]
     },
     "execution_count": 150,
     "metadata": {},
     "output_type": "execute_result"
    }
   ],
   "source": [
    "t7=torch.randint(0,10,(2,3))\n",
    "t8=torch.randint(0,10,(2,3))\n",
    "\n",
    "t7.device,t8.device"
   ]
  },
  {
   "cell_type": "code",
   "execution_count": null,
   "id": "6ce8ef2b",
   "metadata": {},
   "outputs": [
    {
     "data": {
      "text/plain": [
       "(device(type='cuda', index=0), device(type='cuda', index=0))"
      ]
     },
     "execution_count": 151,
     "metadata": {},
     "output_type": "execute_result"
    }
   ],
   "source": [
    "t7=t7.to(\"cuda\").float()\n",
    "t8=t8.to(\"cuda\").float()\n",
    "\n",
    "t7.device,t8.device"
   ]
  },
  {
   "cell_type": "markdown",
   "id": "389ab117",
   "metadata": {},
   "source": [
    "8."
   ]
  },
  {
   "cell_type": "code",
   "execution_count": 152,
   "id": "b496aca6",
   "metadata": {},
   "outputs": [
    {
     "data": {
      "text/plain": [
       "tensor([[62., 63.],\n",
       "        [28., 35.]], device='cuda:0')"
      ]
     },
     "execution_count": 152,
     "metadata": {},
     "output_type": "execute_result"
    }
   ],
   "source": [
    "t9=t7@t8.T\n",
    "t9"
   ]
  },
  {
   "cell_type": "markdown",
   "id": "d3f4526a",
   "metadata": {},
   "source": [
    "9."
   ]
  },
  {
   "cell_type": "code",
   "execution_count": 153,
   "id": "7175d754",
   "metadata": {},
   "outputs": [
    {
     "name": "stdout",
     "output_type": "stream",
     "text": [
      "Max = 63.0\n",
      "Min = 28.0\n"
     ]
    }
   ],
   "source": [
    "tmax=torch.max(t9)\n",
    "tmin=torch.min(t9)\n",
    "\n",
    "print(f\"Max = {tmax.item()}\\nMin = {tmin.item()}\")"
   ]
  },
  {
   "cell_type": "markdown",
   "id": "3b5e08a2",
   "metadata": {},
   "source": [
    "10."
   ]
  },
  {
   "cell_type": "code",
   "execution_count": 154,
   "id": "a8ebafcf",
   "metadata": {},
   "outputs": [
    {
     "name": "stdout",
     "output_type": "stream",
     "text": [
      "Max = 1\n",
      "Min = 2\n"
     ]
    }
   ],
   "source": [
    "tmax=torch.argmax(t9)\n",
    "tmin=torch.argmin(t9)\n",
    "\n",
    "print(f\"Max = {tmax.item()}\\nMin = {tmin.item()}\")"
   ]
  },
  {
   "cell_type": "markdown",
   "id": "2665c78b",
   "metadata": {},
   "source": [
    "11."
   ]
  },
  {
   "cell_type": "code",
   "execution_count": 155,
   "id": "42d7616d",
   "metadata": {},
   "outputs": [
    {
     "data": {
      "text/plain": [
       "(tensor([[[[0.5349, 0.1988, 0.6592, 0.6569, 0.2328, 0.4251, 0.2071, 0.6297,\n",
       "            0.3653, 0.8513]]]]),\n",
       " torch.Size([1, 1, 1, 10]))"
      ]
     },
     "execution_count": 155,
     "metadata": {},
     "output_type": "execute_result"
    }
   ],
   "source": [
    "torch.manual_seed(7)\n",
    "t10=torch.rand((1,1,1,10))\n",
    "t10, t10.shape"
   ]
  },
  {
   "cell_type": "code",
   "execution_count": 156,
   "id": "c93323e2",
   "metadata": {},
   "outputs": [
    {
     "data": {
      "text/plain": [
       "(tensor([0.5349, 0.1988, 0.6592, 0.6569, 0.2328, 0.4251, 0.2071, 0.6297, 0.3653,\n",
       "         0.8513]),\n",
       " torch.Size([10]))"
      ]
     },
     "execution_count": 156,
     "metadata": {},
     "output_type": "execute_result"
    }
   ],
   "source": [
    "t10=torch.squeeze(t10)\n",
    "t10, t10.shape"
   ]
  }
 ],
 "metadata": {
  "kernelspec": {
   "display_name": "Python (myvenv)",
   "language": "python",
   "name": "myenv"
  },
  "language_info": {
   "codemirror_mode": {
    "name": "ipython",
    "version": 3
   },
   "file_extension": ".py",
   "mimetype": "text/x-python",
   "name": "python",
   "nbconvert_exporter": "python",
   "pygments_lexer": "ipython3",
   "version": "3.12.3"
  }
 },
 "nbformat": 4,
 "nbformat_minor": 5
}
