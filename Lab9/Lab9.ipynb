{
 "cells": [
  {
   "cell_type": "code",
   "execution_count": 408,
   "metadata": {},
   "outputs": [
    {
     "data": {
      "text/plain": [
       "<torch._C.Generator at 0x7d321abf88b0>"
      ]
     },
     "execution_count": 408,
     "metadata": {},
     "output_type": "execute_result"
    }
   ],
   "source": [
    "import torch \n",
    "from torch.utils.data import Dataset, DataLoader, TensorDataset\n",
    "from torch import nn\n",
    "import numpy as np \n",
    "import matplotlib.pyplot as plt \n",
    "import pandas as pd \n",
    "from sklearn.model_selection import train_test_split\n",
    "import os\n",
    "\n",
    "torch.manual_seed(42)"
   ]
  },
  {
   "cell_type": "code",
   "execution_count": 409,
   "metadata": {},
   "outputs": [],
   "source": [
    "device = torch.device('cuda' if torch.cuda.is_available() else 'cpu')"
   ]
  },
  {
   "cell_type": "markdown",
   "metadata": {},
   "source": [
    "1. Dataset contains Monthly and Daily prices of Natural gas, starting from January 1997 to current \n",
    "year. Prices are in nominal dollars. The task is to predict the price of natural gas using LSTM model \n",
    "for the dataset  \n",
    "\n",
    "    https://datahub.io/core/natural-gas#resource-daily  or  \n",
    "    https://www.kaggle.com/datasets/joebeachcapital/natural-gas-prices \n",
    "\n",
    "    Given the price of last ten 10 days, corresponds to sequence_length, the RNN model must predict \n",
    "    the price for the 11th day. "
   ]
  },
  {
   "cell_type": "code",
   "execution_count": 410,
   "metadata": {},
   "outputs": [
    {
     "data": {
      "text/html": [
       "<div>\n",
       "<style scoped>\n",
       "    .dataframe tbody tr th:only-of-type {\n",
       "        vertical-align: middle;\n",
       "    }\n",
       "\n",
       "    .dataframe tbody tr th {\n",
       "        vertical-align: top;\n",
       "    }\n",
       "\n",
       "    .dataframe thead th {\n",
       "        text-align: right;\n",
       "    }\n",
       "</style>\n",
       "<table border=\"1\" class=\"dataframe\">\n",
       "  <thead>\n",
       "    <tr style=\"text-align: right;\">\n",
       "      <th></th>\n",
       "      <th>Date</th>\n",
       "      <th>Price</th>\n",
       "    </tr>\n",
       "  </thead>\n",
       "  <tbody>\n",
       "    <tr>\n",
       "      <th>0</th>\n",
       "      <td>1997-01-07</td>\n",
       "      <td>3.82</td>\n",
       "    </tr>\n",
       "    <tr>\n",
       "      <th>1</th>\n",
       "      <td>1997-01-08</td>\n",
       "      <td>3.80</td>\n",
       "    </tr>\n",
       "    <tr>\n",
       "      <th>2</th>\n",
       "      <td>1997-01-09</td>\n",
       "      <td>3.61</td>\n",
       "    </tr>\n",
       "    <tr>\n",
       "      <th>3</th>\n",
       "      <td>1997-01-10</td>\n",
       "      <td>3.92</td>\n",
       "    </tr>\n",
       "    <tr>\n",
       "      <th>4</th>\n",
       "      <td>1997-01-13</td>\n",
       "      <td>4.00</td>\n",
       "    </tr>\n",
       "    <tr>\n",
       "      <th>...</th>\n",
       "      <td>...</td>\n",
       "      <td>...</td>\n",
       "    </tr>\n",
       "    <tr>\n",
       "      <th>7084</th>\n",
       "      <td>2025-03-18</td>\n",
       "      <td>4.17</td>\n",
       "    </tr>\n",
       "    <tr>\n",
       "      <th>7085</th>\n",
       "      <td>2025-03-19</td>\n",
       "      <td>4.21</td>\n",
       "    </tr>\n",
       "    <tr>\n",
       "      <th>7086</th>\n",
       "      <td>2025-03-20</td>\n",
       "      <td>4.23</td>\n",
       "    </tr>\n",
       "    <tr>\n",
       "      <th>7087</th>\n",
       "      <td>2025-03-21</td>\n",
       "      <td>3.93</td>\n",
       "    </tr>\n",
       "    <tr>\n",
       "      <th>7088</th>\n",
       "      <td>2025-03-24</td>\n",
       "      <td>4.03</td>\n",
       "    </tr>\n",
       "  </tbody>\n",
       "</table>\n",
       "<p>7088 rows × 2 columns</p>\n",
       "</div>"
      ],
      "text/plain": [
       "            Date  Price\n",
       "0     1997-01-07   3.82\n",
       "1     1997-01-08   3.80\n",
       "2     1997-01-09   3.61\n",
       "3     1997-01-10   3.92\n",
       "4     1997-01-13   4.00\n",
       "...          ...    ...\n",
       "7084  2025-03-18   4.17\n",
       "7085  2025-03-19   4.21\n",
       "7086  2025-03-20   4.23\n",
       "7087  2025-03-21   3.93\n",
       "7088  2025-03-24   4.03\n",
       "\n",
       "[7088 rows x 2 columns]"
      ]
     },
     "execution_count": 410,
     "metadata": {},
     "output_type": "execute_result"
    }
   ],
   "source": [
    "df=pd.read_csv('daily.csv')\n",
    "df=df.dropna()\n",
    "df"
   ]
  },
  {
   "cell_type": "code",
   "execution_count": 411,
   "metadata": {},
   "outputs": [],
   "source": [
    "y = df['Price'].values \n",
    "x = np.arange(1, len(y), 1)"
   ]
  },
  {
   "cell_type": "code",
   "execution_count": 412,
   "metadata": {},
   "outputs": [],
   "source": [
    "minm = y.min() \n",
    "maxm = y.max() \n",
    "y = (y - minm) / (maxm - minm)"
   ]
  },
  {
   "cell_type": "code",
   "execution_count": 413,
   "metadata": {},
   "outputs": [],
   "source": [
    "sequence_length = 10\n",
    "X = [] \n",
    "Y = [] \n",
    "for i in range(len(y) - sequence_length): \n",
    "    l = [] \n",
    "    for j in range(i, i + sequence_length): \n",
    "        l.append(y[j]) \n",
    "    X.append(l) \n",
    "    Y.append(y[j + 1])\n",
    "    \n",
    "X=np.array(X)\n",
    "Y=np.array(Y)"
   ]
  },
  {
   "cell_type": "code",
   "execution_count": 414,
   "metadata": {},
   "outputs": [],
   "source": [
    "x_train, x_test, y_train, y_test = train_test_split(X,Y,test_size=0.2,random_state=42)"
   ]
  },
  {
   "cell_type": "code",
   "execution_count": 415,
   "metadata": {},
   "outputs": [],
   "source": [
    "class PriceTimeSeries(Dataset):\n",
    "    def __init__(self, x, y):\n",
    "        self.x = torch.tensor(x, dtype=torch.float32)\n",
    "        self.y = torch.tensor(y, dtype=torch.float32)\n",
    "    def __getitem__(self, idx):\n",
    "        return self.x[idx], self.y[idx]\n",
    "    def __len__(self):\n",
    "        return self.x.shape[0]\n",
    "    \n",
    "train_set = PriceTimeSeries(x_train,y_train)\n",
    "train_loader = DataLoader(train_set,shuffle=True,batch_size=256)"
   ]
  },
  {
   "cell_type": "code",
   "execution_count": 416,
   "metadata": {},
   "outputs": [],
   "source": [
    "class LSTMModel(nn.Module):\n",
    "    def __init__(self):\n",
    "        super().__init__()\n",
    "        self.lstm = nn.LSTM(input_size=1,hidden_size=5,num_layers=1,batch_first=True)\n",
    "        self.fc1 = nn.Linear(in_features=5,out_features=1)\n",
    "        \n",
    "    def forward(self,x):\n",
    "        output,_status = self.lstm(x)\n",
    "        output = output[:,-1,:]\n",
    "        output = self.fc1(torch.relu(output))\n",
    "        return output"
   ]
  },
  {
   "cell_type": "code",
   "execution_count": 417,
   "metadata": {},
   "outputs": [],
   "source": [
    "model=LSTMModel().to(device)"
   ]
  },
  {
   "cell_type": "code",
   "execution_count": 418,
   "metadata": {},
   "outputs": [],
   "source": [
    "alpha=0.0001\n",
    "epochs=200\n",
    "\n",
    "criterion = nn.MSELoss()\n",
    "optimizer = torch.optim.Adam(model.parameters(),lr=alpha) "
   ]
  },
  {
   "cell_type": "code",
   "execution_count": 419,
   "metadata": {},
   "outputs": [
    {
     "name": "stdout",
     "output_type": "stream",
     "text": [
      "Epoch 1/200, Loss: 0.02593930502948554\n",
      "Epoch 2/200, Loss: 0.023612064673848774\n",
      "Epoch 3/200, Loss: 0.02255726273617019\n",
      "Epoch 4/200, Loss: 0.021148208528757095\n",
      "Epoch 5/200, Loss: 0.01948797658247792\n",
      "Epoch 6/200, Loss: 0.019252469560698322\n",
      "Epoch 7/200, Loss: 0.017896087394784325\n",
      "Epoch 8/200, Loss: 0.01731908576482016\n",
      "Epoch 9/200, Loss: 0.01629248225008664\n",
      "Epoch 10/200, Loss: 0.015960773898531563\n",
      "Epoch 11/200, Loss: 0.01500041329342386\n",
      "Epoch 12/200, Loss: 0.014934955326759296\n",
      "Epoch 13/200, Loss: 0.013989847477363504\n",
      "Epoch 14/200, Loss: 0.01358968485146761\n",
      "Epoch 15/200, Loss: 0.01252696472827507\n",
      "Epoch 16/200, Loss: 0.012550161827517592\n",
      "Epoch 17/200, Loss: 0.011993673913504766\n",
      "Epoch 18/200, Loss: 0.011279330042231342\n",
      "Epoch 19/200, Loss: 0.010849857824328154\n",
      "Epoch 20/200, Loss: 0.010481554589679708\n",
      "Epoch 21/200, Loss: 0.010256229434162378\n",
      "Epoch 22/200, Loss: 0.010075250377311655\n",
      "Epoch 23/200, Loss: 0.00976434426949076\n",
      "Epoch 24/200, Loss: 0.009613664557590433\n",
      "Epoch 25/200, Loss: 0.0092776610273058\n",
      "Epoch 26/200, Loss: 0.009204528456472832\n",
      "Epoch 27/200, Loss: 0.009061062991943048\n",
      "Epoch 28/200, Loss: 0.008883551491991333\n",
      "Epoch 29/200, Loss: 0.00857019219952433\n",
      "Epoch 30/200, Loss: 0.008354830940294525\n",
      "Epoch 31/200, Loss: 0.008017090189716091\n",
      "Epoch 32/200, Loss: 0.008013462647795677\n",
      "Epoch 33/200, Loss: 0.008015962358078232\n",
      "Epoch 34/200, Loss: 0.007765808021244796\n",
      "Epoch 35/200, Loss: 0.007698813068639973\n",
      "Epoch 36/200, Loss: 0.007938749663045874\n",
      "Epoch 37/200, Loss: 0.007502442934428868\n",
      "Epoch 38/200, Loss: 0.007566457108149062\n",
      "Epoch 39/200, Loss: 0.00739883512015576\n",
      "Epoch 40/200, Loss: 0.007336718819873488\n",
      "Epoch 41/200, Loss: 0.007392208375360655\n",
      "Epoch 42/200, Loss: 0.007424674685234609\n",
      "Epoch 43/200, Loss: 0.007338510745245478\n",
      "Epoch 44/200, Loss: 0.007171518118728114\n",
      "Epoch 45/200, Loss: 0.0073632748554582185\n",
      "Epoch 46/200, Loss: 0.007170257725469444\n",
      "Epoch 47/200, Loss: 0.007166536767845569\n",
      "Epoch 48/200, Loss: 0.007361698814708254\n",
      "Epoch 49/200, Loss: 0.007028828537010629\n",
      "Epoch 50/200, Loss: 0.007274644165907217\n",
      "Epoch 51/200, Loss: 0.007032362561996864\n",
      "Epoch 52/200, Loss: 0.006891131714877227\n",
      "Epoch 53/200, Loss: 0.007164187911573959\n",
      "Epoch 54/200, Loss: 0.006861129269489776\n",
      "Epoch 55/200, Loss: 0.006818533206925444\n",
      "Epoch 56/200, Loss: 0.006856505111183809\n",
      "Epoch 57/200, Loss: 0.006719036716157975\n",
      "Epoch 58/200, Loss: 0.006815478975034278\n",
      "Epoch 59/200, Loss: 0.006748813406928726\n",
      "Epoch 60/200, Loss: 0.0067302006823213205\n",
      "Epoch 61/200, Loss: 0.006550506303977707\n",
      "Epoch 62/200, Loss: 0.00660560826730469\n",
      "Epoch 63/200, Loss: 0.0066105497231625995\n",
      "Epoch 64/200, Loss: 0.006377515848726034\n",
      "Epoch 65/200, Loss: 0.006310797498925873\n",
      "Epoch 66/200, Loss: 0.006255521378277436\n",
      "Epoch 67/200, Loss: 0.006151763621069815\n",
      "Epoch 68/200, Loss: 0.006191405730888895\n",
      "Epoch 69/200, Loss: 0.006205265126798464\n",
      "Epoch 70/200, Loss: 0.006011908630961957\n",
      "Epoch 71/200, Loss: 0.005997269292888434\n",
      "Epoch 72/200, Loss: 0.005848519605300997\n",
      "Epoch 73/200, Loss: 0.005803679014839556\n",
      "Epoch 74/200, Loss: 0.005730722302004047\n",
      "Epoch 75/200, Loss: 0.005549536896464618\n",
      "Epoch 76/200, Loss: 0.005590066354235877\n",
      "Epoch 77/200, Loss: 0.0054614125427020635\n",
      "Epoch 78/200, Loss: 0.005274338192184982\n",
      "Epoch 79/200, Loss: 0.005156852193581669\n",
      "Epoch 80/200, Loss: 0.005098878780541861\n",
      "Epoch 81/200, Loss: 0.004990467275290385\n",
      "Epoch 82/200, Loss: 0.004860552969267187\n",
      "Epoch 83/200, Loss: 0.004860743110918481\n",
      "Epoch 84/200, Loss: 0.004642339139852835\n",
      "Epoch 85/200, Loss: 0.004515680555335205\n",
      "Epoch 86/200, Loss: 0.0043564672662836056\n",
      "Epoch 87/200, Loss: 0.00423141827037477\n",
      "Epoch 88/200, Loss: 0.004247383305640972\n",
      "Epoch 89/200, Loss: 0.003952878982881489\n",
      "Epoch 90/200, Loss: 0.003971981147871069\n",
      "Epoch 91/200, Loss: 0.0036979653447380533\n",
      "Epoch 92/200, Loss: 0.0034747276981563673\n",
      "Epoch 93/200, Loss: 0.003322163799210735\n",
      "Epoch 94/200, Loss: 0.003190672409761211\n",
      "Epoch 95/200, Loss: 0.0030084314411910978\n",
      "Epoch 96/200, Loss: 0.0028286121036533427\n",
      "Epoch 97/200, Loss: 0.0027015598531326523\n",
      "Epoch 98/200, Loss: 0.0025425969784998374\n",
      "Epoch 99/200, Loss: 0.0024148968311593585\n",
      "Epoch 100/200, Loss: 0.0021951225808943095\n",
      "Epoch 101/200, Loss: 0.0021572272931023135\n",
      "Epoch 102/200, Loss: 0.0019236625192443962\n",
      "Epoch 103/200, Loss: 0.0017723116325214505\n",
      "Epoch 104/200, Loss: 0.0016188696128032777\n",
      "Epoch 105/200, Loss: 0.001513139418144103\n",
      "Epoch 106/200, Loss: 0.001376328324271447\n",
      "Epoch 107/200, Loss: 0.0012602610513567924\n",
      "Epoch 108/200, Loss: 0.0011719409806613364\n",
      "Epoch 109/200, Loss: 0.0010905795750896568\n",
      "Epoch 110/200, Loss: 0.0010151023465289693\n",
      "Epoch 111/200, Loss: 0.0009222241680380766\n",
      "Epoch 112/200, Loss: 0.000864017868677721\n",
      "Epoch 113/200, Loss: 0.0008087777608560156\n",
      "Epoch 114/200, Loss: 0.0007616807807884786\n",
      "Epoch 115/200, Loss: 0.0007108903303995486\n",
      "Epoch 116/200, Loss: 0.0006796839196518388\n",
      "Epoch 117/200, Loss: 0.0006751488405785968\n",
      "Epoch 118/200, Loss: 0.0006290208883634161\n",
      "Epoch 119/200, Loss: 0.0006093442998067273\n",
      "Epoch 120/200, Loss: 0.0005950505766794895\n",
      "Epoch 121/200, Loss: 0.0005928083024311649\n",
      "Epoch 122/200, Loss: 0.0005827031007198536\n",
      "Epoch 123/200, Loss: 0.000575359726613185\n",
      "Epoch 124/200, Loss: 0.0006737013413246883\n",
      "Epoch 125/200, Loss: 0.0005577115276221024\n",
      "Epoch 126/200, Loss: 0.0005492197296521424\n",
      "Epoch 127/200, Loss: 0.0005472797581561557\n",
      "Epoch 128/200, Loss: 0.0008449609013041481\n",
      "Epoch 129/200, Loss: 0.0005413369622344718\n",
      "Epoch 130/200, Loss: 0.0005334197656180629\n",
      "Epoch 131/200, Loss: 0.0005286276870680487\n",
      "Epoch 132/200, Loss: 0.0005244449516201554\n",
      "Epoch 133/200, Loss: 0.0005262886058873213\n",
      "Epoch 134/200, Loss: 0.0005213690557233665\n",
      "Epoch 135/200, Loss: 0.0005343314639859549\n",
      "Epoch 136/200, Loss: 0.0005217112338868901\n",
      "Epoch 137/200, Loss: 0.0005186779093017559\n",
      "Epoch 138/200, Loss: 0.0005139637825145062\n",
      "Epoch 139/200, Loss: 0.0005306430058503199\n",
      "Epoch 140/200, Loss: 0.0005195334568903174\n",
      "Epoch 141/200, Loss: 0.0005122294874720113\n",
      "Epoch 142/200, Loss: 0.0005111027288797271\n",
      "Epoch 143/200, Loss: 0.000512885697231547\n",
      "Epoch 144/200, Loss: 0.000512535814145256\n",
      "Epoch 145/200, Loss: 0.0005110910234456558\n",
      "Epoch 146/200, Loss: 0.0005097807721619535\n",
      "Epoch 147/200, Loss: 0.0005077470167357799\n",
      "Epoch 148/200, Loss: 0.0005079430557088926\n",
      "Epoch 149/200, Loss: 0.0005142773822982512\n",
      "Epoch 150/200, Loss: 0.000507123153353029\n",
      "Epoch 151/200, Loss: 0.0005104487139286231\n",
      "Epoch 152/200, Loss: 0.0005045667880356474\n",
      "Epoch 153/200, Loss: 0.0005091448395472506\n",
      "Epoch 154/200, Loss: 0.0005120628674099546\n",
      "Epoch 155/200, Loss: 0.0005227550193566182\n",
      "Epoch 156/200, Loss: 0.0005069252441424634\n",
      "Epoch 157/200, Loss: 0.0005012036961726035\n",
      "Epoch 158/200, Loss: 0.0004986749453287896\n",
      "Epoch 159/200, Loss: 0.00050400973249571\n",
      "Epoch 160/200, Loss: 0.0005005893301289609\n",
      "Epoch 161/200, Loss: 0.0004972609812798707\n",
      "Epoch 162/200, Loss: 0.0005037658968079916\n",
      "Epoch 163/200, Loss: 0.0005010835903585362\n",
      "Epoch 164/200, Loss: 0.0004995585901348892\n",
      "Epoch 165/200, Loss: 0.0005160728665625514\n",
      "Epoch 166/200, Loss: 0.0005001857871716113\n",
      "Epoch 167/200, Loss: 0.0005000354855007532\n",
      "Epoch 168/200, Loss: 0.0004957716598215958\n",
      "Epoch 169/200, Loss: 0.0004987495688154646\n",
      "Epoch 170/200, Loss: 0.0004946861884926203\n",
      "Epoch 171/200, Loss: 0.000496663102556182\n",
      "Epoch 172/200, Loss: 0.00050284008371502\n",
      "Epoch 173/200, Loss: 0.0005046754003674521\n",
      "Epoch 174/200, Loss: 0.0004946861650830175\n",
      "Epoch 175/200, Loss: 0.0005048682568999736\n",
      "Epoch 176/200, Loss: 0.000497661627773398\n",
      "Epoch 177/200, Loss: 0.0005031926335979496\n",
      "Epoch 178/200, Loss: 0.0004968167410444711\n",
      "Epoch 179/200, Loss: 0.000502698852316193\n",
      "Epoch 180/200, Loss: 0.0006147620733827353\n",
      "Epoch 181/200, Loss: 0.000502765272318831\n",
      "Epoch 182/200, Loss: 0.0004949079365874438\n",
      "Epoch 183/200, Loss: 0.0004937276554182577\n",
      "Epoch 184/200, Loss: 0.0004941809184737908\n",
      "Epoch 185/200, Loss: 0.0004910754616265995\n",
      "Epoch 186/200, Loss: 0.0004982744886428522\n",
      "Epoch 187/200, Loss: 0.0004889730630763908\n",
      "Epoch 188/200, Loss: 0.0005062794877195973\n",
      "Epoch 189/200, Loss: 0.0004937302216168736\n",
      "Epoch 190/200, Loss: 0.0004997385979589561\n",
      "Epoch 191/200, Loss: 0.0004895451072471864\n",
      "Epoch 192/200, Loss: 0.0005012893329283385\n",
      "Epoch 193/200, Loss: 0.000495380247467319\n",
      "Epoch 194/200, Loss: 0.0004999748078104028\n",
      "Epoch 195/200, Loss: 0.0004907198903231841\n",
      "Epoch 196/200, Loss: 0.00048764854379798004\n",
      "Epoch 197/200, Loss: 0.0004900007865533395\n",
      "Epoch 198/200, Loss: 0.0004959984020704566\n",
      "Epoch 199/200, Loss: 0.0004913282027700916\n",
      "Epoch 200/200, Loss: 0.0004938155629054603\n"
     ]
    }
   ],
   "source": [
    "def train(model, epochs, train_loader, criterion, optimizer):\n",
    "    losses = []\n",
    "    for epoch in range(epochs):\n",
    "        running_loss = 0.0\n",
    "        model.train()\n",
    "        for input, output in train_loader:\n",
    "            input, output = input.to(device), output.to(device)\n",
    "            optimizer.zero_grad()\n",
    "            pred = model(input.view(-1, sequence_length,1))\n",
    "            loss = criterion(pred, output.view(-1, 1))\n",
    "            loss.backward()\n",
    "            optimizer.step()\n",
    "            running_loss += loss.item()\n",
    "        print(f\"Epoch {epoch+1}/{epochs}, Loss: {running_loss / len(train_loader)}\")\n",
    "        losses.append(running_loss / len(train_loader))\n",
    "    return losses\n",
    "\n",
    "losses = train(model, epochs, train_loader, criterion, optimizer)"
   ]
  },
  {
   "cell_type": "code",
   "execution_count": 420,
   "metadata": {},
   "outputs": [
    {
     "data": {
      "text/plain": [
       "[<matplotlib.lines.Line2D at 0x7d307c374c50>]"
      ]
     },
     "execution_count": 420,
     "metadata": {},
     "output_type": "execute_result"
    },
    {
     "data": {
      "image/png": "[encoded data removed]",
      "text/plain": [
       "<Figure size 640x480 with 1 Axes>"
      ]
     },
     "metadata": {},
     "output_type": "display_data"
    }
   ],
   "source": [
    "plt.plot(losses)"
   ]
  },
  {
   "cell_type": "code",
   "execution_count": 421,
   "metadata": {},
   "outputs": [],
   "source": [
    "test_set = PriceTimeSeries(x_train,y_train)\n",
    "test_loader = DataLoader(test_set,shuffle=False,batch_size=256)"
   ]
  },
  {
   "cell_type": "code",
   "execution_count": 422,
   "metadata": {},
   "outputs": [],
   "source": [
    "def evaluate(model, test_loader):\n",
    "    model.eval()\n",
    "    preds = []\n",
    "    labels = []\n",
    "    \n",
    "    with torch.no_grad():\n",
    "        for input, output in test_loader:\n",
    "            input, output = input.to(device), output.to(device)\n",
    "            pred = model(input.view(-1, sequence_length, 1)).view(-1)\n",
    "            preds.extend(pred.detach().cpu().numpy())\n",
    "            labels.extend(output.view(-1).detach().cpu().numpy())\n",
    "    \n",
    "    preds=np.array(preds)\n",
    "    labels=np.array(labels)\n",
    "    \n",
    "    return preds, labels\n",
    "\n",
    "preds,labels = evaluate(model, test_loader)"
   ]
  },
  {
   "cell_type": "code",
   "execution_count": 423,
   "metadata": {},
   "outputs": [
    {
     "data": {
      "text/plain": [
       "<matplotlib.legend.Legend at 0x7d3062fac6b0>"
      ]
     },
     "execution_count": 423,
     "metadata": {},
     "output_type": "execute_result"
    },
    {
     "data": {
      "image/png": "[encoded data removed]",
      "text/plain": [
       "<Figure size 640x480 with 1 Axes>"
      ]
     },
     "metadata": {},
     "output_type": "display_data"
    }
   ],
   "source": [
    "plt.plot(preds,label='predicted')\n",
    "plt.plot(labels,label='original')\n",
    "plt.legend()"
   ]
  },
  {
   "cell_type": "markdown",
   "metadata": {},
   "source": [
    "2. The data provided at the link https://download.pytorch.org/tutorial/data.zip consists of\n",
    "names stored in the format {language: [names ...]} i.e. each language contains a list of\n",
    "names. Train a LSTM on a few thousand surnames from 18 languages of origin, and\n",
    "predict which language a name is from based on the spelling."
   ]
  },
  {
   "cell_type": "code",
   "execution_count": 424,
   "metadata": {},
   "outputs": [],
   "source": [
    "data_path='data/names'\n",
    "\n",
    "names = []\n",
    "languages = [] \n",
    "\n",
    "for filename in os.listdir(data_path):\n",
    "    lang = filename[:-4]\n",
    "    file_path = os.path.join(data_path, filename)\n",
    "    with open(file_path, 'r') as f:\n",
    "        for line in f:\n",
    "            names.append(line.strip())  \n",
    "            languages.append(lang)                      "
   ]
  },
  {
   "cell_type": "code",
   "execution_count": 425,
   "metadata": {},
   "outputs": [],
   "source": [
    "x_train, x_test, y_train, y_test = train_test_split(names,languages,test_size=0.2,random_state=42)"
   ]
  },
  {
   "cell_type": "code",
   "execution_count": 426,
   "metadata": {},
   "outputs": [],
   "source": [
    "def prepare_data(names, languages):\n",
    "    all_chars = set(''.join(names))\n",
    "    char_to_index = {ch: i+1 for i, ch in enumerate(all_chars)}\n",
    "    char_to_index['<PAD>'] = 0\n",
    "    \n",
    "    language_to_index = {language: i for i, language in enumerate(set(languages))}\n",
    "    \n",
    "    max_length = max(len(name) for name in names)\n",
    "    name_indices = []\n",
    "    for name in names:\n",
    "        indices = [char_to_index.get(char, 0) for char in name]\n",
    "        name_indices.append(indices + [0] * (max_length - len(indices)))\n",
    "    \n",
    "    label_indices = [language_to_index[label] for label in languages]\n",
    "    \n",
    "    return np.array(name_indices), np.array(label_indices), char_to_index, language_to_index, max_length\n",
    "\n",
    "x_train_indices, y_train_indices, char_to_index, language_to_index, max_length = prepare_data(x_train, y_train)\n",
    "x_test_indices, y_test_indices, _, _, _ = prepare_data(x_test, y_test)"
   ]
  },
  {
   "cell_type": "code",
   "execution_count": 427,
   "metadata": {},
   "outputs": [],
   "source": [
    "class NameLanguageDataset(Dataset):\n",
    "    def __init__(self, names, labels):\n",
    "        self.names = torch.tensor(names, dtype=torch.long)\n",
    "        self.labels = torch.tensor(labels, dtype=torch.long)\n",
    "    \n",
    "    def __len__(self):\n",
    "        return len(self.names)\n",
    "    \n",
    "    def __getitem__(self, idx):\n",
    "        return self.names[idx], self.labels[idx]\n",
    "    \n",
    "train_dataset = NameLanguageDataset(x_train_indices, y_train_indices)\n",
    "test_dataset = NameLanguageDataset(x_test_indices, y_test_indices)\n",
    "\n",
    "train_loader = DataLoader(train_dataset, batch_size=64, shuffle=True)\n",
    "test_loader = DataLoader(test_dataset, batch_size=64, shuffle=False)"
   ]
  },
  {
   "cell_type": "code",
   "execution_count": 428,
   "metadata": {},
   "outputs": [],
   "source": [
    "class NameLanguageLSTM(nn.Module):\n",
    "    def __init__(self):\n",
    "        super().__init__()\n",
    "        self.embedding = nn.Embedding(len(char_to_index), 128)\n",
    "        self.lstm = nn.LSTM(128, 128, batch_first=True)\n",
    "        self.fc = nn.Linear(128, len(language_to_index))\n",
    "    \n",
    "    def forward(self, x):\n",
    "        embedded = self.embedding(x)\n",
    "        out, (h_n, c_n) = self.lstm(embedded)\n",
    "        last_hidden = out[:, -1, :]\n",
    "        out = self.fc(last_hidden)\n",
    "        return out"
   ]
  },
  {
   "cell_type": "code",
   "execution_count": 429,
   "metadata": {},
   "outputs": [],
   "source": [
    "model=NameLanguageLSTM().to(device)"
   ]
  },
  {
   "cell_type": "code",
   "execution_count": 430,
   "metadata": {},
   "outputs": [
    {
     "name": "stdout",
     "output_type": "stream",
     "text": [
      "Epoch 1/10, Loss: 1.8643470579884442\n",
      "Epoch 2/10, Loss: 1.5658308141734971\n",
      "Epoch 3/10, Loss: 1.1134916202005638\n",
      "Epoch 4/10, Loss: 0.859528501313996\n",
      "Epoch 5/10, Loss: 0.7351745187761299\n",
      "Epoch 6/10, Loss: 0.6402977885478046\n",
      "Epoch 7/10, Loss: 0.5779619156364426\n",
      "Epoch 8/10, Loss: 0.5185269839260208\n",
      "Epoch 9/10, Loss: 0.4816277190389861\n",
      "Epoch 10/10, Loss: 0.4393290182152592\n"
     ]
    }
   ],
   "source": [
    "def train_model(model, train_loader, num_epochs=10, learning_rate=0.001):\n",
    "    criterion = nn.CrossEntropyLoss()\n",
    "    optimizer = torch.optim.Adam(model.parameters(), lr=learning_rate)\n",
    "    \n",
    "    for epoch in range(num_epochs):\n",
    "        model.train()\n",
    "        running_loss = 0.0\n",
    "        for batch_data, batch_labels in train_loader:\n",
    "            batch_data,batch_labels=batch_data.to(device), batch_labels.to(device)\n",
    "            optimizer.zero_grad()\n",
    "            outputs = model(batch_data)\n",
    "            loss = criterion(outputs, batch_labels)\n",
    "            loss.backward()\n",
    "            optimizer.step()\n",
    "            \n",
    "            running_loss += loss.item()\n",
    "        \n",
    "        print(f\"Epoch {epoch+1}/{num_epochs}, Loss: {running_loss/len(train_loader)}\")\n",
    "\n",
    "train_model(model, train_loader, num_epochs=10)"
   ]
  },
  {
   "cell_type": "code",
   "execution_count": 431,
   "metadata": {},
   "outputs": [],
   "source": [
    "def predict(model, name, char_to_index, language_to_index, max_length):\n",
    "    name_indices = [char_to_index.get(char, 0) for char in name]\n",
    "    name_indices = name_indices + [0] * (max_length - len(name_indices))\n",
    "    \n",
    "    with torch.no_grad():\n",
    "        model.eval()\n",
    "        input_tensor = torch.tensor([name_indices], dtype=torch.long).to(device)\n",
    "        outputs = model(input_tensor)\n",
    "        predicted_language_index = torch.argmax(outputs, dim=1).item()\n",
    "        predicted_language = list(language_to_index.keys())[predicted_language_index]\n",
    "        return predicted_language"
   ]
  },
  {
   "cell_type": "code",
   "execution_count": 432,
   "metadata": {},
   "outputs": [
    {
     "name": "stdout",
     "output_type": "stream",
     "text": [
      "The predicted language for the name 'Smith' is: English\n"
     ]
    }
   ],
   "source": [
    "test_name = \"Smith\"\n",
    "predicted_language = predict(model, test_name, char_to_index, language_to_index, max_length)\n",
    "print(f\"The predicted language for the name '{test_name}' is: {predicted_language}\")"
   ]
  },
  {
   "cell_type": "markdown",
   "metadata": {},
   "source": [
    "3. Implement a next character predictor using LSTM Model"
   ]
  },
  {
   "cell_type": "code",
   "execution_count": 433,
   "metadata": {},
   "outputs": [
    {
     "name": "stdout",
     "output_type": "stream",
     "text": [
      "Epoch [10/200], Loss: 2.8295\n",
      "Epoch [20/200], Loss: 2.8021\n",
      "Epoch [30/200], Loss: 2.7649\n",
      "Epoch [40/200], Loss: 2.7593\n",
      "Epoch [50/200], Loss: 2.7503\n",
      "Epoch [60/200], Loss: 2.7407\n",
      "Epoch [70/200], Loss: 2.7239\n",
      "Epoch [80/200], Loss: 2.6970\n",
      "Epoch [90/200], Loss: 2.6707\n",
      "Epoch [100/200], Loss: 2.6413\n",
      "Epoch [110/200], Loss: 2.6172\n",
      "Epoch [120/200], Loss: 2.5970\n",
      "Epoch [130/200], Loss: 2.5768\n",
      "Epoch [140/200], Loss: 2.5584\n",
      "Epoch [150/200], Loss: 2.5408\n",
      "Epoch [160/200], Loss: 2.5238\n",
      "Epoch [170/200], Loss: 2.5076\n",
      "Epoch [180/200], Loss: 2.4925\n",
      "Epoch [190/200], Loss: 2.4791\n",
      "Epoch [200/200], Loss: 2.4685\n",
      "Input: 'hello wor' -> Predicted next character: 'c'\n"
     ]
    }
   ],
   "source": [
    "text = \"hello world this is a next character prediction example\"\n",
    "\n",
    "chars = sorted(list(set(text)))\n",
    "char_to_index = {char: idx for idx, char in enumerate(chars)}\n",
    "index_to_char = {idx: char for idx, char in enumerate(chars)}\n",
    "\n",
    "seq_length = 40\n",
    "X = []\n",
    "y = []\n",
    "\n",
    "for i in range(len(text) - seq_length):\n",
    "    seq_in = text[i:i + seq_length]\n",
    "    seq_out = text[i + seq_length]\n",
    "    X.append([char_to_index[char] for char in seq_in])\n",
    "    y.append(char_to_index[seq_out])\n",
    "\n",
    "X = np.array(X)\n",
    "y = np.array(y)\n",
    "\n",
    "X = np.reshape(X, (X.shape[0], X.shape[1], 1))\n",
    "X = X / float(len(chars))\n",
    "\n",
    "X = torch.tensor(X, dtype=torch.float32)\n",
    "y = torch.tensor(y, dtype=torch.long)\n",
    "\n",
    "class LSTMModel(nn.Module):\n",
    "    def __init__(self, input_size, hidden_size, output_size):\n",
    "        super(LSTMModel, self).__init__()\n",
    "        self.hidden_size = hidden_size\n",
    "        self.lstm = nn.LSTM(input_size, hidden_size)\n",
    "        self.fc = nn.Linear(hidden_size, output_size)\n",
    "        self.softmax = nn.Softmax(dim=1)\n",
    "\n",
    "    def forward(self, x):\n",
    "        lstm_out, (hn, cn) = self.lstm(x)\n",
    "        lstm_out = lstm_out[:, -1, :]\n",
    "        out = self.fc(lstm_out)\n",
    "        out = self.softmax(out)\n",
    "        return out\n",
    "\n",
    "input_size = 1\n",
    "hidden_size = 128\n",
    "output_size = len(chars)\n",
    "model = LSTMModel(input_size, hidden_size, output_size)\n",
    "\n",
    "loss_function = nn.CrossEntropyLoss()\n",
    "optimizer = torch.optim.Adam(model.parameters(), lr=0.001)\n",
    "\n",
    "for epoch in range(epochs):\n",
    "    model.train()\n",
    "    optimizer.zero_grad()\n",
    "    output = model(X)\n",
    "    loss = loss_function(output, y)\n",
    "    loss.backward()\n",
    "    optimizer.step()\n",
    "    if (epoch + 1) % 10 == 0:\n",
    "        print(f\"Epoch [{epoch + 1}/{epochs}], Loss: {loss.item():.4f}\")\n",
    "\n",
    "def predict_next_char(model, input_text, char_to_index, index_to_char, seq_length):\n",
    "    model.eval()\n",
    "    input_seq = [char_to_index[char] for char in input_text]\n",
    "    input_seq = np.array(input_seq)\n",
    "    input_seq = input_seq.reshape(1, len(input_seq), 1)\n",
    "    input_seq = torch.tensor(input_seq, dtype=torch.float32)\n",
    "    input_seq = input_seq / float(len(char_to_index))\n",
    "    \n",
    "    with torch.no_grad():\n",
    "        prediction = model(input_seq)\n",
    "    predicted_index = torch.argmax(prediction).item()\n",
    "    return index_to_char[predicted_index]\n",
    "\n",
    "test_input = \"hello wor\"\n",
    "predicted_char = predict_next_char(model, test_input, char_to_index, index_to_char, seq_length)\n",
    "print(f\"Input: '{test_input}' -> Predicted next character: '{predicted_char}'\")\n"
   ]
  },
  {
   "cell_type": "markdown",
   "metadata": {},
   "source": [
    "4. LSTM from scratch on number series 0-20."
   ]
  },
  {
   "cell_type": "code",
   "execution_count": 434,
   "metadata": {},
   "outputs": [
    {
     "name": "stdout",
     "output_type": "stream",
     "text": [
      "Epoch [50/500], Loss: 7.0221\n",
      "Epoch [100/500], Loss: 0.0047\n",
      "Epoch [150/500], Loss: 0.0002\n",
      "Epoch [200/500], Loss: 0.0041\n",
      "Epoch [250/500], Loss: 0.0101\n",
      "Epoch [300/500], Loss: 0.0133\n",
      "Epoch [350/500], Loss: 0.0006\n",
      "Epoch [400/500], Loss: 0.0145\n",
      "Epoch [450/500], Loss: 0.0003\n",
      "Epoch [500/500], Loss: 0.0021\n",
      "Predicted next value: 20\n"
     ]
    }
   ],
   "source": [
    "def prepare_data(sequence, n_steps):\n",
    "    X, y = [], []\n",
    "    for i in range(len(sequence)):\n",
    "        end_ix = i + n_steps\n",
    "        if end_ix > len(sequence) - 1:\n",
    "            break\n",
    "        seq_x, seq_y = sequence[i:end_ix], sequence[end_ix]\n",
    "        X.append(seq_x)\n",
    "        y.append(seq_y)\n",
    "    return np.array(X), np.array(y)\n",
    "\n",
    "class LSTMModel(nn.Module):\n",
    "    def __init__(self, input_size=1, hidden_size=50, num_layers=1, output_size=1):\n",
    "        super(LSTMModel, self).__init__()\n",
    "        self.hidden_size = hidden_size\n",
    "        self.num_layers = num_layers\n",
    "        self.lstm = nn.LSTM(input_size, hidden_size, num_layers, batch_first=True)\n",
    "        self.fc = nn.Linear(hidden_size, output_size)\n",
    "    \n",
    "    def forward(self, x):\n",
    "        h0 = torch.zeros(self.num_layers, x.size(0), self.hidden_size).to(x.device)\n",
    "        c0 = torch.zeros(self.num_layers, x.size(0), self.hidden_size).to(x.device)\n",
    "        lstm_out, _ = self.lstm(x, (h0, c0))\n",
    "        out = self.fc(lstm_out[:, -1, :])\n",
    "        return out\n",
    "\n",
    "sequence = np.arange(21)\n",
    "n_steps = 3\n",
    "X, y = prepare_data(sequence, n_steps)\n",
    "X = torch.tensor(X, dtype=torch.float32).unsqueeze(-1)\n",
    "y = torch.tensor(y, dtype=torch.float32)\n",
    "dataset = TensorDataset(X, y)\n",
    "train_loader = DataLoader(dataset, batch_size=2, shuffle=True)\n",
    "\n",
    "model = LSTMModel(input_size=1, hidden_size=50, num_layers=1, output_size=1)\n",
    "criterion = nn.MSELoss()\n",
    "optimizer = torch.optim.Adam(model.parameters(), lr=0.001)\n",
    "\n",
    "num_epochs = 500\n",
    "for epoch in range(num_epochs):\n",
    "    model.train()\n",
    "    for X_batch, y_batch in train_loader:\n",
    "        optimizer.zero_grad()\n",
    "        output = model(X_batch)\n",
    "        loss = criterion(output, y_batch.unsqueeze(-1))\n",
    "        loss.backward()\n",
    "        optimizer.step()\n",
    "    \n",
    "    if (epoch + 1) % 50 == 0:\n",
    "        print(f'Epoch [{epoch+1}/{num_epochs}], Loss: {loss.item():.4f}')\n",
    "\n",
    "model.eval()\n",
    "test_input = torch.tensor([17, 18, 19], dtype=torch.float32).unsqueeze(0).unsqueeze(-1)\n",
    "with torch.no_grad():\n",
    "    predicted = model(test_input)\n",
    "    print(f\"Predicted next value: {round(predicted.item())}\")\n"
   ]
  }
 ],
 "metadata": {
  "kernelspec": {
   "display_name": "Python (myvenv)",
   "language": "python",
   "name": "myenv"
  },
  "language_info": {
   "codemirror_mode": {
    "name": "ipython",
    "version": 3
   },
   "file_extension": ".py",
   "mimetype": "text/x-python",
   "name": "python",
   "nbconvert_exporter": "python",
   "pygments_lexer": "ipython3",
   "version": "3.12.3"
  }
 },
 "nbformat": 4,
 "nbformat_minor": 2
}
